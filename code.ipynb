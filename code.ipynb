{
 "cells": [
  {
   "cell_type": "code",
   "execution_count": 44,
   "id": "5a5c1bdf",
   "metadata": {},
   "outputs": [],
   "source": [
    "import spacy\n",
    "from nltk.corpus import stopwords\n",
    "from string import punctuation\n",
    "from nltk.stem import LancasterStemmer,WordNetLemmatizer\n",
    "import heapq"
   ]
  },
  {
   "cell_type": "code",
   "execution_count": 2,
   "id": "05d39204",
   "metadata": {},
   "outputs": [],
   "source": [
    "\n",
    "nlp=spacy.load(\"en_core_web_md\")"
   ]
  },
  {
   "cell_type": "code",
   "execution_count": 3,
   "id": "a0f4ac30",
   "metadata": {},
   "outputs": [],
   "source": [
    "text=\"\"\"Machine Learning tutorial provides basic and advanced concepts of machine learning. Our machine learning tutorial is designed for students and working professionals.\n",
    "\n",
    "Machine learning is a growing technology which enables computers to learn automatically from past data. Machine learning uses various algorithms for building mathematical models and making predictions using historical data or information. Currently, it is being used for various tasks such as image recognition, speech recognition, email filtering, Facebook auto-tagging, recommender system, and many more.\n",
    "\n",
    "This machine learning tutorial gives you an introduction to machine learning along with the wide range of machine learning techniques such as Supervised, Unsupervised, and Reinforcement learning. You will learn about regression and classification models, clustering methods, hidden Markov models, and various sequential models.\n",
    "\n",
    "What is Machine Learning\n",
    "In the real world, we are surrounded by humans who can learn everything from their experiences with their learning capability, and we have computers or machines which work on our instructions. But can a machine also learn from experiences or past data like a human does? So here comes the role of Machine Learning.\n",
    "\"\"\""
   ]
  },
  {
   "cell_type": "code",
   "execution_count": 4,
   "id": "31b529bf",
   "metadata": {},
   "outputs": [],
   "source": [
    "#Removing Whitespaces and newlines\n",
    "\n",
    "def white_spaces(data):\n",
    "    import re \n",
    "    res=re.sub(r'\\s+',\" \",data)\n",
    "    return res\n",
    "\n",
    "text=white_spaces(text)"
   ]
  },
  {
   "cell_type": "code",
   "execution_count": 5,
   "id": "70faef21",
   "metadata": {},
   "outputs": [],
   "source": [
    "doc=nlp(text)"
   ]
  },
  {
   "cell_type": "code",
   "execution_count": 6,
   "id": "ee418978",
   "metadata": {},
   "outputs": [],
   "source": [
    "stopwords_list=stopwords.words('english')\n"
   ]
  },
  {
   "cell_type": "code",
   "execution_count": 10,
   "id": "248ae33d",
   "metadata": {},
   "outputs": [
    {
     "data": {
      "text/plain": [
       "['machine',\n",
       " 'learning',\n",
       " 'tutorial',\n",
       " 'provides',\n",
       " 'basic',\n",
       " 'advanced',\n",
       " 'concepts',\n",
       " 'machine',\n",
       " 'learning',\n",
       " 'machine',\n",
       " 'learning',\n",
       " 'tutorial',\n",
       " 'designed',\n",
       " 'students',\n",
       " 'working',\n",
       " 'professionals',\n",
       " 'machine',\n",
       " 'learning',\n",
       " 'growing',\n",
       " 'technology',\n",
       " 'enables',\n",
       " 'computers',\n",
       " 'learn',\n",
       " 'automatically',\n",
       " 'past',\n",
       " 'data',\n",
       " 'machine',\n",
       " 'learning',\n",
       " 'uses',\n",
       " 'various',\n",
       " 'algorithms',\n",
       " 'building',\n",
       " 'mathematical',\n",
       " 'models',\n",
       " 'making',\n",
       " 'predictions',\n",
       " 'using',\n",
       " 'historical',\n",
       " 'data',\n",
       " 'information',\n",
       " 'currently',\n",
       " 'used',\n",
       " 'various',\n",
       " 'tasks',\n",
       " 'image',\n",
       " 'recognition',\n",
       " 'speech',\n",
       " 'recognition',\n",
       " 'email',\n",
       " 'filtering',\n",
       " 'facebook',\n",
       " 'auto',\n",
       " 'tagging',\n",
       " 'recommender',\n",
       " 'system',\n",
       " 'many',\n",
       " 'machine',\n",
       " 'learning',\n",
       " 'tutorial',\n",
       " 'gives',\n",
       " 'introduction',\n",
       " 'machine',\n",
       " 'learning',\n",
       " 'along',\n",
       " 'wide',\n",
       " 'range',\n",
       " 'machine',\n",
       " 'learning',\n",
       " 'techniques',\n",
       " 'supervised',\n",
       " 'unsupervised',\n",
       " 'reinforcement',\n",
       " 'learning',\n",
       " 'learn',\n",
       " 'regression',\n",
       " 'classification',\n",
       " 'models',\n",
       " 'clustering',\n",
       " 'methods',\n",
       " 'hidden',\n",
       " 'markov',\n",
       " 'models',\n",
       " 'various',\n",
       " 'sequential',\n",
       " 'models',\n",
       " 'machine',\n",
       " 'learning',\n",
       " 'real',\n",
       " 'world',\n",
       " 'surrounded',\n",
       " 'humans',\n",
       " 'learn',\n",
       " 'everything',\n",
       " 'experiences',\n",
       " 'learning',\n",
       " 'capability',\n",
       " 'computers',\n",
       " 'machines',\n",
       " 'work',\n",
       " 'instructions',\n",
       " 'machine',\n",
       " 'also',\n",
       " 'learn',\n",
       " 'experiences',\n",
       " 'past',\n",
       " 'data',\n",
       " 'like',\n",
       " 'human',\n",
       " 'comes',\n",
       " 'role',\n",
       " 'machine',\n",
       " 'learning']"
      ]
     },
     "execution_count": 10,
     "metadata": {},
     "output_type": "execute_result"
    }
   ],
   "source": [
    "words=[word.text.lower() for word in doc if (word.text.lower() not in stopwords_list) and (word.text.lower() not in punctuation)]\n",
    "words\n"
   ]
  },
  {
   "cell_type": "code",
   "execution_count": 9,
   "id": "1b9b9898",
   "metadata": {},
   "outputs": [
    {
     "data": {
      "text/plain": [
       "['machine',\n",
       " 'learning',\n",
       " 'tutorial',\n",
       " 'provide',\n",
       " 'basic',\n",
       " 'advanced',\n",
       " 'concept',\n",
       " 'machine',\n",
       " 'learning',\n",
       " 'machine',\n",
       " 'learn',\n",
       " 'tutorial',\n",
       " 'design',\n",
       " 'student',\n",
       " 'working',\n",
       " 'professional',\n",
       " 'machine',\n",
       " 'learning',\n",
       " 'grow',\n",
       " 'technology',\n",
       " 'enable',\n",
       " 'computer',\n",
       " 'learn',\n",
       " 'automatically',\n",
       " 'past',\n",
       " 'datum',\n",
       " 'machine',\n",
       " 'learning',\n",
       " 'use',\n",
       " 'various',\n",
       " 'algorithm',\n",
       " 'build',\n",
       " 'mathematical',\n",
       " 'model',\n",
       " 'make',\n",
       " 'prediction',\n",
       " 'use',\n",
       " 'historical',\n",
       " 'datum',\n",
       " 'information',\n",
       " 'currently',\n",
       " 'use',\n",
       " 'various',\n",
       " 'task',\n",
       " 'image',\n",
       " 'recognition',\n",
       " 'speech',\n",
       " 'recognition',\n",
       " 'email',\n",
       " 'filtering',\n",
       " 'facebook',\n",
       " 'auto',\n",
       " 'tagging',\n",
       " 'recommender',\n",
       " 'system',\n",
       " 'many',\n",
       " 'machine',\n",
       " 'learn',\n",
       " 'tutorial',\n",
       " 'give',\n",
       " 'introduction',\n",
       " 'machine',\n",
       " 'learn',\n",
       " 'along',\n",
       " 'wide',\n",
       " 'range',\n",
       " 'machine',\n",
       " 'learn',\n",
       " 'technique',\n",
       " 'supervised',\n",
       " 'unsupervised',\n",
       " 'reinforcement',\n",
       " 'learn',\n",
       " 'learn',\n",
       " 'regression',\n",
       " 'classification',\n",
       " 'model',\n",
       " 'clustering',\n",
       " 'method',\n",
       " 'hide',\n",
       " 'markov',\n",
       " 'model',\n",
       " 'various',\n",
       " 'sequential',\n",
       " 'model',\n",
       " 'machine',\n",
       " 'learning',\n",
       " 'real',\n",
       " 'world',\n",
       " 'surround',\n",
       " 'human',\n",
       " 'learn',\n",
       " 'everything',\n",
       " 'experience',\n",
       " 'learning',\n",
       " 'capability',\n",
       " 'computer',\n",
       " 'machine',\n",
       " 'work',\n",
       " 'instruction',\n",
       " 'machine',\n",
       " 'also',\n",
       " 'learn',\n",
       " 'experience',\n",
       " 'past',\n",
       " 'datum',\n",
       " 'like',\n",
       " 'human',\n",
       " 'come',\n",
       " 'role',\n",
       " 'machine',\n",
       " 'learning']"
      ]
     },
     "execution_count": 9,
     "metadata": {},
     "output_type": "execute_result"
    }
   ],
   "source": [
    "words_lemma=[word.lemma_.lower() for word in doc if (word.text.lower() not in stopwords_list) and (word.text.lower() not in punctuation)]\n",
    "words_lemma"
   ]
  },
  {
   "cell_type": "markdown",
   "id": "89dcfff9",
   "metadata": {},
   "source": [
    "### word frequency score"
   ]
  },
  {
   "cell_type": "code",
   "execution_count": 11,
   "id": "dcd3b82f",
   "metadata": {},
   "outputs": [],
   "source": [
    "## for non lemma words"
   ]
  },
  {
   "cell_type": "code",
   "execution_count": 12,
   "id": "249f0369",
   "metadata": {},
   "outputs": [
    {
     "data": {
      "text/plain": [
       "{'machine': 11,\n",
       " 'learning': 12,\n",
       " 'tutorial': 3,\n",
       " 'provides': 1,\n",
       " 'basic': 1,\n",
       " 'advanced': 1,\n",
       " 'concepts': 1,\n",
       " 'designed': 1,\n",
       " 'students': 1,\n",
       " 'working': 1,\n",
       " 'professionals': 1,\n",
       " 'growing': 1,\n",
       " 'technology': 1,\n",
       " 'enables': 1,\n",
       " 'computers': 2,\n",
       " 'learn': 4,\n",
       " 'automatically': 1,\n",
       " 'past': 2,\n",
       " 'data': 3,\n",
       " 'uses': 1,\n",
       " 'various': 3,\n",
       " 'algorithms': 1,\n",
       " 'building': 1,\n",
       " 'mathematical': 1,\n",
       " 'models': 4,\n",
       " 'making': 1,\n",
       " 'predictions': 1,\n",
       " 'using': 1,\n",
       " 'historical': 1,\n",
       " 'information': 1,\n",
       " 'currently': 1,\n",
       " 'used': 1,\n",
       " 'tasks': 1,\n",
       " 'image': 1,\n",
       " 'recognition': 2,\n",
       " 'speech': 1,\n",
       " 'email': 1,\n",
       " 'filtering': 1,\n",
       " 'facebook': 1,\n",
       " 'auto': 1,\n",
       " 'tagging': 1,\n",
       " 'recommender': 1,\n",
       " 'system': 1,\n",
       " 'many': 1,\n",
       " 'gives': 1,\n",
       " 'introduction': 1,\n",
       " 'along': 1,\n",
       " 'wide': 1,\n",
       " 'range': 1,\n",
       " 'techniques': 1,\n",
       " 'supervised': 1,\n",
       " 'unsupervised': 1,\n",
       " 'reinforcement': 1,\n",
       " 'regression': 1,\n",
       " 'classification': 1,\n",
       " 'clustering': 1,\n",
       " 'methods': 1,\n",
       " 'hidden': 1,\n",
       " 'markov': 1,\n",
       " 'sequential': 1,\n",
       " 'real': 1,\n",
       " 'world': 1,\n",
       " 'surrounded': 1,\n",
       " 'humans': 1,\n",
       " 'everything': 1,\n",
       " 'experiences': 2,\n",
       " 'capability': 1,\n",
       " 'machines': 1,\n",
       " 'work': 1,\n",
       " 'instructions': 1,\n",
       " 'also': 1,\n",
       " 'like': 1,\n",
       " 'human': 1,\n",
       " 'comes': 1,\n",
       " 'role': 1}"
      ]
     },
     "execution_count": 12,
     "metadata": {},
     "output_type": "execute_result"
    }
   ],
   "source": [
    "word_frequencies_non_lemma={}\n",
    "for word in words:\n",
    "    if word not in word_frequencies_non_lemma:\n",
    "        word_frequencies_non_lemma[word]=1\n",
    "    else:\n",
    "        word_frequencies_non_lemma[word]+=1\n",
    "        \n",
    "word_frequencies_non_lemma"
   ]
  },
  {
   "cell_type": "code",
   "execution_count": 13,
   "id": "652f9dd2",
   "metadata": {},
   "outputs": [],
   "source": [
    "## for lemma words"
   ]
  },
  {
   "cell_type": "code",
   "execution_count": 14,
   "id": "beec9d03",
   "metadata": {},
   "outputs": [
    {
     "data": {
      "text/plain": [
       "{'machine': 12,\n",
       " 'learning': 7,\n",
       " 'tutorial': 3,\n",
       " 'provide': 1,\n",
       " 'basic': 1,\n",
       " 'advanced': 1,\n",
       " 'concept': 1,\n",
       " 'learn': 9,\n",
       " 'design': 1,\n",
       " 'student': 1,\n",
       " 'working': 1,\n",
       " 'professional': 1,\n",
       " 'grow': 1,\n",
       " 'technology': 1,\n",
       " 'enable': 1,\n",
       " 'computer': 2,\n",
       " 'automatically': 1,\n",
       " 'past': 2,\n",
       " 'datum': 3,\n",
       " 'use': 3,\n",
       " 'various': 3,\n",
       " 'algorithm': 1,\n",
       " 'build': 1,\n",
       " 'mathematical': 1,\n",
       " 'model': 4,\n",
       " 'make': 1,\n",
       " 'prediction': 1,\n",
       " 'historical': 1,\n",
       " 'information': 1,\n",
       " 'currently': 1,\n",
       " 'task': 1,\n",
       " 'image': 1,\n",
       " 'recognition': 2,\n",
       " 'speech': 1,\n",
       " 'email': 1,\n",
       " 'filtering': 1,\n",
       " 'facebook': 1,\n",
       " 'auto': 1,\n",
       " 'tagging': 1,\n",
       " 'recommender': 1,\n",
       " 'system': 1,\n",
       " 'many': 1,\n",
       " 'give': 1,\n",
       " 'introduction': 1,\n",
       " 'along': 1,\n",
       " 'wide': 1,\n",
       " 'range': 1,\n",
       " 'technique': 1,\n",
       " 'supervised': 1,\n",
       " 'unsupervised': 1,\n",
       " 'reinforcement': 1,\n",
       " 'regression': 1,\n",
       " 'classification': 1,\n",
       " 'clustering': 1,\n",
       " 'method': 1,\n",
       " 'hide': 1,\n",
       " 'markov': 1,\n",
       " 'sequential': 1,\n",
       " 'real': 1,\n",
       " 'world': 1,\n",
       " 'surround': 1,\n",
       " 'human': 2,\n",
       " 'everything': 1,\n",
       " 'experience': 2,\n",
       " 'capability': 1,\n",
       " 'work': 1,\n",
       " 'instruction': 1,\n",
       " 'also': 1,\n",
       " 'like': 1,\n",
       " 'come': 1,\n",
       " 'role': 1}"
      ]
     },
     "execution_count": 14,
     "metadata": {},
     "output_type": "execute_result"
    }
   ],
   "source": [
    "word_frequencies_lemma={}\n",
    "for word in words_lemma:\n",
    "    if word not in word_frequencies_lemma:\n",
    "        word_frequencies_lemma[word]=1\n",
    "    else:\n",
    "        word_frequencies_lemma[word]+=1\n",
    "        \n",
    "word_frequencies_lemma"
   ]
  },
  {
   "cell_type": "code",
   "execution_count": 15,
   "id": "674ede9d",
   "metadata": {},
   "outputs": [],
   "source": [
    "## Normalizing frequency score by diving each score by max score"
   ]
  },
  {
   "cell_type": "code",
   "execution_count": null,
   "id": "9bed1798",
   "metadata": {},
   "outputs": [],
   "source": [
    "#non_lemma"
   ]
  },
  {
   "cell_type": "code",
   "execution_count": 22,
   "id": "4e42ca84",
   "metadata": {},
   "outputs": [
    {
     "data": {
      "text/plain": [
       "{'machine': 0.9166666666666666,\n",
       " 'learning': 1.0,\n",
       " 'tutorial': 0.75,\n",
       " 'provides': 0.25,\n",
       " 'basic': 0.25,\n",
       " 'advanced': 0.25,\n",
       " 'concepts': 0.25,\n",
       " 'designed': 0.25,\n",
       " 'students': 0.25,\n",
       " 'working': 0.25,\n",
       " 'professionals': 0.25,\n",
       " 'growing': 0.25,\n",
       " 'technology': 0.25,\n",
       " 'enables': 0.25,\n",
       " 'computers': 0.5,\n",
       " 'learn': 1.0,\n",
       " 'automatically': 0.25,\n",
       " 'past': 0.5,\n",
       " 'data': 0.75,\n",
       " 'uses': 0.25,\n",
       " 'various': 0.75,\n",
       " 'algorithms': 0.25,\n",
       " 'building': 0.25,\n",
       " 'mathematical': 0.25,\n",
       " 'models': 1.0,\n",
       " 'making': 0.5,\n",
       " 'predictions': 0.5,\n",
       " 'using': 0.5,\n",
       " 'historical': 0.5,\n",
       " 'information': 0.5,\n",
       " 'currently': 0.5,\n",
       " 'used': 0.5,\n",
       " 'tasks': 0.5,\n",
       " 'image': 0.5,\n",
       " 'recognition': 1.0,\n",
       " 'speech': 0.5,\n",
       " 'email': 0.5,\n",
       " 'filtering': 0.5,\n",
       " 'facebook': 0.5,\n",
       " 'auto': 0.5,\n",
       " 'tagging': 0.5,\n",
       " 'recommender': 0.5,\n",
       " 'system': 0.5,\n",
       " 'many': 0.5,\n",
       " 'gives': 0.5,\n",
       " 'introduction': 0.5,\n",
       " 'along': 0.5,\n",
       " 'wide': 0.5,\n",
       " 'range': 0.5,\n",
       " 'techniques': 0.5,\n",
       " 'supervised': 0.5,\n",
       " 'unsupervised': 0.5,\n",
       " 'reinforcement': 0.5,\n",
       " 'regression': 0.5,\n",
       " 'classification': 0.5,\n",
       " 'clustering': 0.5,\n",
       " 'methods': 0.5,\n",
       " 'hidden': 0.5,\n",
       " 'markov': 0.5,\n",
       " 'sequential': 0.5,\n",
       " 'real': 0.5,\n",
       " 'world': 0.5,\n",
       " 'surrounded': 0.5,\n",
       " 'humans': 0.5,\n",
       " 'everything': 0.5,\n",
       " 'experiences': 1.0,\n",
       " 'capability': 1.0,\n",
       " 'machines': 1.0,\n",
       " 'work': 1.0,\n",
       " 'instructions': 1.0,\n",
       " 'also': 1.0,\n",
       " 'like': 1.0,\n",
       " 'human': 1.0,\n",
       " 'comes': 1.0,\n",
       " 'role': 1.0}"
      ]
     },
     "execution_count": 22,
     "metadata": {},
     "output_type": "execute_result"
    }
   ],
   "source": [
    "max_freq=max(word_frequencies_non_lemma.values())\n",
    "for key in word_frequencies_non_lemma:\n",
    "    word_frequencies_non_lemma[key]= word_frequencies_non_lemma[key]/max_freq\n",
    "    \n",
    "word_frequencies_non_lemma"
   ]
  },
  {
   "cell_type": "code",
   "execution_count": 21,
   "id": "a570a072",
   "metadata": {},
   "outputs": [],
   "source": [
    "#lemma"
   ]
  },
  {
   "cell_type": "code",
   "execution_count": 23,
   "id": "6bc0a204",
   "metadata": {},
   "outputs": [
    {
     "data": {
      "text/plain": [
       "{'machine': 1.0,\n",
       " 'learning': 0.5833333333333334,\n",
       " 'tutorial': 0.25,\n",
       " 'provide': 0.08333333333333333,\n",
       " 'basic': 0.08333333333333333,\n",
       " 'advanced': 0.08333333333333333,\n",
       " 'concept': 0.08333333333333333,\n",
       " 'learn': 0.75,\n",
       " 'design': 0.08333333333333333,\n",
       " 'student': 0.08333333333333333,\n",
       " 'working': 0.08333333333333333,\n",
       " 'professional': 0.08333333333333333,\n",
       " 'grow': 0.08333333333333333,\n",
       " 'technology': 0.08333333333333333,\n",
       " 'enable': 0.08333333333333333,\n",
       " 'computer': 0.16666666666666666,\n",
       " 'automatically': 0.08333333333333333,\n",
       " 'past': 0.16666666666666666,\n",
       " 'datum': 0.25,\n",
       " 'use': 0.25,\n",
       " 'various': 0.25,\n",
       " 'algorithm': 0.08333333333333333,\n",
       " 'build': 0.08333333333333333,\n",
       " 'mathematical': 0.08333333333333333,\n",
       " 'model': 0.3333333333333333,\n",
       " 'make': 0.08333333333333333,\n",
       " 'prediction': 0.08333333333333333,\n",
       " 'historical': 0.08333333333333333,\n",
       " 'information': 0.08333333333333333,\n",
       " 'currently': 0.08333333333333333,\n",
       " 'task': 0.08333333333333333,\n",
       " 'image': 0.08333333333333333,\n",
       " 'recognition': 0.16666666666666666,\n",
       " 'speech': 0.08333333333333333,\n",
       " 'email': 0.08333333333333333,\n",
       " 'filtering': 0.08333333333333333,\n",
       " 'facebook': 0.08333333333333333,\n",
       " 'auto': 0.08333333333333333,\n",
       " 'tagging': 0.08333333333333333,\n",
       " 'recommender': 0.08333333333333333,\n",
       " 'system': 0.08333333333333333,\n",
       " 'many': 0.08333333333333333,\n",
       " 'give': 0.08333333333333333,\n",
       " 'introduction': 0.08333333333333333,\n",
       " 'along': 0.08333333333333333,\n",
       " 'wide': 0.08333333333333333,\n",
       " 'range': 0.08333333333333333,\n",
       " 'technique': 0.08333333333333333,\n",
       " 'supervised': 0.08333333333333333,\n",
       " 'unsupervised': 0.08333333333333333,\n",
       " 'reinforcement': 0.08333333333333333,\n",
       " 'regression': 0.08333333333333333,\n",
       " 'classification': 0.08333333333333333,\n",
       " 'clustering': 0.08333333333333333,\n",
       " 'method': 0.08333333333333333,\n",
       " 'hide': 0.08333333333333333,\n",
       " 'markov': 0.08333333333333333,\n",
       " 'sequential': 0.08333333333333333,\n",
       " 'real': 0.08333333333333333,\n",
       " 'world': 0.08333333333333333,\n",
       " 'surround': 0.08333333333333333,\n",
       " 'human': 0.16666666666666666,\n",
       " 'everything': 0.08333333333333333,\n",
       " 'experience': 0.16666666666666666,\n",
       " 'capability': 0.08333333333333333,\n",
       " 'work': 0.08333333333333333,\n",
       " 'instruction': 0.08333333333333333,\n",
       " 'also': 0.08333333333333333,\n",
       " 'like': 0.08333333333333333,\n",
       " 'come': 0.08333333333333333,\n",
       " 'role': 0.08333333333333333}"
      ]
     },
     "execution_count": 23,
     "metadata": {},
     "output_type": "execute_result"
    }
   ],
   "source": [
    "max_freq=max(word_frequencies_lemma.values())\n",
    "for key in word_frequencies_lemma:\n",
    "    word_frequencies_lemma[key]= word_frequencies_lemma[key]/max_freq\n",
    "    \n",
    "word_frequencies_lemma"
   ]
  },
  {
   "cell_type": "code",
   "execution_count": 24,
   "id": "14892a71",
   "metadata": {},
   "outputs": [],
   "source": [
    "#### Sentence score calculation"
   ]
  },
  {
   "cell_type": "code",
   "execution_count": null,
   "id": "18f9ede7",
   "metadata": {},
   "outputs": [],
   "source": [
    "#for lemma words"
   ]
  },
  {
   "cell_type": "code",
   "execution_count": 29,
   "id": "91466b27",
   "metadata": {},
   "outputs": [],
   "source": [
    "sent_score_lemma={}\n",
    "for sent in doc.sents:\n",
    "    for word in sent:\n",
    "        if word.lemma_.lower() in word_frequencies_lemma.keys():\n",
    "            if sent not in sent_score_lemma:\n",
    "                sent_score_lemma[sent]=word_frequencies_lemma[word.lemma_.lower()]\n",
    "            else:\n",
    "                sent_score_lemma[sent]+=word_frequencies_lemma[word.lemma_.lower()]"
   ]
  },
  {
   "cell_type": "code",
   "execution_count": 30,
   "id": "8808ee17",
   "metadata": {},
   "outputs": [
    {
     "data": {
      "text/plain": [
       "{Machine Learning tutorial provides basic and advanced concepts of machine learning.: 3.7500000000000004,\n",
       " Our machine learning tutorial is designed for students and working professionals.: 2.333333333333334,\n",
       " Machine learning is a growing technology which enables computers to learn automatically from past data.: 3.25,\n",
       " Machine learning uses various algorithms for building mathematical models and making predictions using historical data or information.: 3.5000000000000013,\n",
       " Currently, it is being used for various tasks such as image recognition, speech recognition, email filtering, Facebook auto-tagging, recommender system, and many more.: 1.8333333333333328,\n",
       " This machine learning tutorial gives you an introduction to machine learning along with the wide range of machine learning techniques such as Supervised, Unsupervised, and Reinforcement learning.: 6.999999999999998,\n",
       " You will learn about regression and classification models, clustering methods, hidden Markov models, and various sequential models.: 2.583333333333333,\n",
       " What is Machine Learning In the real world, we are surrounded by humans who can learn everything from their experiences with their learning capability, and we have computers or machines which work on our instructions.: 5.0,\n",
       " But can a machine also learn from experiences or past data like a human does?: 2.6666666666666665,\n",
       " So here comes the role of Machine Learning.: 1.75}"
      ]
     },
     "execution_count": 30,
     "metadata": {},
     "output_type": "execute_result"
    }
   ],
   "source": [
    "sent_score_lemma"
   ]
  },
  {
   "cell_type": "code",
   "execution_count": 31,
   "id": "cbf9cc1c",
   "metadata": {},
   "outputs": [],
   "source": [
    "#For non lemma words"
   ]
  },
  {
   "cell_type": "code",
   "execution_count": 76,
   "id": "ff006e2f",
   "metadata": {},
   "outputs": [],
   "source": [
    "sent_score_non_lemma={}\n",
    "for sent in doc.sents:\n",
    "    for word in sent:\n",
    "        if word.text.lower() in word_frequencies_non_lemma.keys():\n",
    "            if sent not in sent_score_non_lemma:\n",
    "                sent_score_non_lemma[sent]=word_frequencies_non_lemma[word.text.lower()]\n",
    "            else:\n",
    "                sent_score_non_lemma[sent]+=word_frequencies_non_lemma[word.text.lower()]"
   ]
  },
  {
   "cell_type": "code",
   "execution_count": 77,
   "id": "3ffb6b60",
   "metadata": {},
   "outputs": [
    {
     "data": {
      "text/plain": [
       "{Machine Learning tutorial provides basic and advanced concepts of machine learning.: 5.583333333333333,\n",
       " Our machine learning tutorial is designed for students and working professionals.: 3.6666666666666665,\n",
       " Machine learning is a growing technology which enables computers to learn automatically from past data.: 5.666666666666666,\n",
       " Machine learning uses various algorithms for building mathematical models and making predictions using historical data or information.: 7.916666666666666,\n",
       " Currently, it is being used for various tasks such as image recognition, speech recognition, email filtering, Facebook auto-tagging, recommender system, and many more.: 9.25,\n",
       " This machine learning tutorial gives you an introduction to machine learning along with the wide range of machine learning techniques such as Supervised, Unsupervised, and Reinforcement learning.: 12.0,\n",
       " You will learn about regression and classification models, clustering methods, hidden Markov models, and various sequential models.: 8.25,\n",
       " What is Machine Learning In the real world, we are surrounded by humans who can learn everything from their experiences with their learning capability, and we have computers or machines which work on our instructions.: 11.916666666666666,\n",
       " But can a machine also learn from experiences or past data like a human does?: 7.166666666666666,\n",
       " So here comes the role of Machine Learning.: 3.9166666666666665}"
      ]
     },
     "execution_count": 77,
     "metadata": {},
     "output_type": "execute_result"
    }
   ],
   "source": [
    "sent_score_non_lemma"
   ]
  },
  {
   "cell_type": "code",
   "execution_count": 78,
   "id": "a0dabff0",
   "metadata": {},
   "outputs": [],
   "source": [
    "### Let us suppose we have to summarize our text by 30% of all sentenses."
   ]
  },
  {
   "cell_type": "code",
   "execution_count": 79,
   "id": "afdb3761",
   "metadata": {},
   "outputs": [
    {
     "data": {
      "text/plain": [
       "3"
      ]
     },
     "execution_count": 79,
     "metadata": {},
     "output_type": "execute_result"
    }
   ],
   "source": [
    "sent_no=int(len(list(doc.sents))*.3)\n",
    "sent_no"
   ]
  },
  {
   "cell_type": "code",
   "execution_count": 80,
   "id": "d14c6e81",
   "metadata": {},
   "outputs": [],
   "source": [
    "### So we have to extract top 3 sentenses having most score."
   ]
  },
  {
   "cell_type": "code",
   "execution_count": 81,
   "id": "45355509",
   "metadata": {},
   "outputs": [],
   "source": [
    "# Summary achieved by lemma words"
   ]
  },
  {
   "cell_type": "code",
   "execution_count": 82,
   "id": "29ed968e",
   "metadata": {},
   "outputs": [
    {
     "name": "stdout",
     "output_type": "stream",
     "text": [
      "This machine learning tutorial gives you an introduction to machine learning along with the wide range of machine learning techniques such as Supervised, Unsupervised, and Reinforcement learning.\n",
      "What is Machine Learning In the real world, we are surrounded by humans who can learn everything from their experiences with their learning capability, and we have computers or machines which work on our instructions.\n",
      "Machine Learning tutorial provides basic and advanced concepts of machine learning.\n"
     ]
    }
   ],
   "source": [
    "for sent in heapq.nlargest(sent_no,sent_score_lemma,key=sent_score_lemma.get):\n",
    "    print(sent)\n",
    "  "
   ]
  },
  {
   "cell_type": "code",
   "execution_count": 83,
   "id": "24338679",
   "metadata": {},
   "outputs": [],
   "source": [
    "# Summary achieved by non lemma words"
   ]
  },
  {
   "cell_type": "code",
   "execution_count": 85,
   "id": "0ba6e00e",
   "metadata": {},
   "outputs": [
    {
     "name": "stdout",
     "output_type": "stream",
     "text": [
      "This machine learning tutorial gives you an introduction to machine learning along with the wide range of machine learning techniques such as Supervised, Unsupervised, and Reinforcement learning.\n",
      "What is Machine Learning In the real world, we are surrounded by humans who can learn everything from their experiences with their learning capability, and we have computers or machines which work on our instructions.\n",
      "Currently, it is being used for various tasks such as image recognition, speech recognition, email filtering, Facebook auto-tagging, recommender system, and many more.\n"
     ]
    }
   ],
   "source": [
    "for sent in heapq.nlargest(sent_no,sent_score_non_lemma,key=sent_score_non_lemma.get):\n",
    "    print(sent)\n",
    "  "
   ]
  },
  {
   "cell_type": "markdown",
   "id": "31039a90",
   "metadata": {},
   "source": [
    "## So getting better result by non lemmatized words"
   ]
  },
  {
   "cell_type": "markdown",
   "id": "c5b0e3c9",
   "metadata": {},
   "source": [
    "# Making a function "
   ]
  },
  {
   "cell_type": "code",
   "execution_count": 109,
   "id": "5ead59d2",
   "metadata": {},
   "outputs": [],
   "source": [
    "def text_summarizer(text):\n",
    "    text=white_spaces(text)\n",
    "    doc=nlp(text)\n",
    "    words=[word.text.lower() for word in doc if (word.text.lower() not in stopwords_list) and (word.text.lower() not in punctuation)]\n",
    "\n",
    "    word_frequencies_non_lemma={}\n",
    "    for word in words:\n",
    "        if word not in word_frequencies_non_lemma:\n",
    "            word_frequencies_non_lemma[word]=1\n",
    "        else:\n",
    "            word_frequencies_non_lemma[word]+=1\n",
    "            \n",
    "    max_freq=max(word_frequencies_non_lemma.values())\n",
    "    for key in word_frequencies_non_lemma:\n",
    "        word_frequencies_non_lemma[key]= word_frequencies_non_lemma[key]/max_freq\n",
    "        \n",
    "    sent_score_non_lemma={}\n",
    "    for sent in doc.sents:\n",
    "        for word in sent:\n",
    "            if word.text.lower() in word_frequencies_non_lemma.keys():\n",
    "                if sent not in sent_score_non_lemma:\n",
    "                    sent_score_non_lemma[sent]=word_frequencies_non_lemma[word.text.lower()]\n",
    "                else:\n",
    "                    sent_score_non_lemma[sent]+=word_frequencies_non_lemma[word.text.lower()]\n",
    "    sent_no=int(len(list(doc.sents))*.3)\n",
    "    sent_list=heapq.nlargest(sent_no,sent_score_non_lemma,key=sent_score_non_lemma.get)\n",
    "    text_data=[str(data) for data in sent_list ]\n",
    "    return \" \".join(text_data)\n",
    "\n"
   ]
  },
  {
   "cell_type": "code",
   "execution_count": 114,
   "id": "bb9176ee",
   "metadata": {},
   "outputs": [],
   "source": [
    "text_data_science=\"\"\" Data science combines math and statistics, specialized programming, advanced analytics, artificial intelligence (AI), and machine learning with specific subject matter expertise to uncover actionable insights hidden in an organization’s data. These insights can be used to guide decision making and strategic planning.\n",
    "\n",
    "The accelerating volume of data sources, and subsequently data, has made data science is one of the fastest growing field across every industry. As a result, it is no surprise that the role of the data scientist was dubbed the “sexiest job of the 21st century” by Harvard Business Review (link resides outside of IBM). Organizations are increasingly reliant on them to interpret data and provide actionable recommendations to improve business outcomes.\n",
    "\n",
    "The data science lifecycle involves various roles, tools, and processes, which enables analysts to glean actionable insights. Typically, a data science project undergoes the following stages:\n",
    "\n",
    "Data ingestion: The lifecycle begins with the data collection--both raw structured and unstructured data from all relevant sources using a variety of methods. These methods can include manual entry, web scraping, and real-time streaming data from systems and devices. Data sources can include structured data, such as customer data, along with unstructured data like log files, video, audio, pictures, the Internet of Things (IoT), social media, and more.\n",
    "Data storage and data processing: Since data can have different formats and structures, companies need to consider different storage systems based on the type of data that needs to be captured. Data management teams help to set standards around data storage and structure, which facilitate workflows around analytics, machine learning and deep learning models. This stage includes cleaning data, deduplicating, transforming and combining the data using ETL (extract, transform, load) jobs or other data integration technologies. This data preparation is essential for promoting data quality before loading into a data warehouse, data lake, or other repository.\n",
    "Data analysis: Here, data scientists conduct an exploratory data analysis to examine biases, patterns, ranges, and distributions of values within the data. This data analytics exploration drives hypothesis generation for a/b testing. It also allows analysts to determine the data’s relevance for use within modeling efforts for predictive analytics, machine learning, and/or deep learning. Depending on a model’s accuracy, organizations can become reliant on these insights for business decision making, allowing them to drive more scalability.\n",
    "Communicate: Finally, insights are presented as reports and other data visualizations that make the insights—and their impact on business—easier for business analysts and other decision-makers to understand. A data science programming language such as R or Python includes components for generating visualizations; alternately, data scientists can use dedicated visualization tools.\"\"\""
   ]
  },
  {
   "cell_type": "code",
   "execution_count": 117,
   "id": "9e0a6e54",
   "metadata": {},
   "outputs": [
    {
     "data": {
      "text/plain": [
       "'Typically, a data science project undergoes the following stages: Data ingestion: The lifecycle begins with the data collection--both raw structured and unstructured data from all relevant sources using a variety of methods. Data storage and data processing: Since data can have different formats and structures, companies need to consider different storage systems based on the type of data that needs to be captured. Data sources can include structured data, such as customer data, along with unstructured data like log files, video, audio, pictures, the Internet of Things (IoT), social media, and more. Data analysis: Here, data scientists conduct an exploratory data analysis to examine biases, patterns, ranges, and distributions of values within the data. This data preparation is essential for promoting data quality before loading into a data warehouse, data lake, or other repository.'"
      ]
     },
     "execution_count": 117,
     "metadata": {},
     "output_type": "execute_result"
    }
   ],
   "source": [
    "res=text_summarizer(text_data_science)\n",
    "res"
   ]
  },
  {
   "cell_type": "code",
   "execution_count": null,
   "id": "81da1917",
   "metadata": {},
   "outputs": [],
   "source": [
    "\n"
   ]
  },
  {
   "cell_type": "code",
   "execution_count": null,
   "id": "1d81d576",
   "metadata": {},
   "outputs": [],
   "source": []
  },
  {
   "cell_type": "code",
   "execution_count": null,
   "id": "f49c7603",
   "metadata": {},
   "outputs": [],
   "source": []
  }
 ],
 "metadata": {
  "kernelspec": {
   "display_name": "Python 3 (ipykernel)",
   "language": "python",
   "name": "python3"
  },
  "language_info": {
   "codemirror_mode": {
    "name": "ipython",
    "version": 3
   },
   "file_extension": ".py",
   "mimetype": "text/x-python",
   "name": "python",
   "nbconvert_exporter": "python",
   "pygments_lexer": "ipython3",
   "version": "3.10.4"
  }
 },
 "nbformat": 4,
 "nbformat_minor": 5
}
